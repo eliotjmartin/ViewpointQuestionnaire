{
 "cells": [
  {
   "cell_type": "code",
   "execution_count": 1,
   "id": "3e1044d3",
   "metadata": {},
   "outputs": [
    {
     "data": {
      "text/plain": [
       "'imports complete'"
      ]
     },
     "execution_count": 1,
     "metadata": {},
     "output_type": "execute_result"
    }
   ],
   "source": [
    "import pandas as pd\n",
    "import sqlalchemy as db\n",
    "import numpy as np\n",
    "import matplotlib.pyplot as plt\n",
    "%matplotlib inline\n",
    "plt.style.use('fivethirtyeight')\n",
    "'imports complete'"
   ]
  },
  {
   "cell_type": "code",
   "execution_count": 2,
   "id": "cb5139aa",
   "metadata": {},
   "outputs": [],
   "source": [
    "engine = db.create_engine('sqlite:///viewpoint.db')"
   ]
  },
  {
   "cell_type": "code",
   "execution_count": 3,
   "id": "df78b8eb",
   "metadata": {},
   "outputs": [
    {
     "data": {
      "text/plain": [
       "[('V001', 'Abe'), ('V002', 'Abhay'), ('V003', 'Acelin'), ('V004', 'Adelphos')]"
      ]
     },
     "execution_count": 3,
     "metadata": {},
     "output_type": "execute_result"
    }
   ],
   "source": [
    "name_dict = {\"StudentID\":[\"V001\",\"V002\", \"V003\", \"V004\"],\"Name\":[\"Abe\", \"Abhay\", \"Acelin\", \"Adelphos\"]}\n",
    "df = pd.DataFrame.from_dict(name_dict).set_index(\"StudentID\")\n",
    "df.to_sql('name_table', con=engine)\n",
    "engine.execute(\"SELECT * FROM name_table\").fetchall()"
   ]
  },
  {
   "cell_type": "code",
   "execution_count": 4,
   "id": "cd7ae1bd",
   "metadata": {},
   "outputs": [
    {
     "data": {
      "text/plain": [
       "[('V001', 95), ('V002', 80), ('V003', 74), ('V004', 81)]"
      ]
     },
     "execution_count": 4,
     "metadata": {},
     "output_type": "execute_result"
    }
   ],
   "source": [
    "mark_dict = {\"StudentID\":[\"V001\",\"V002\", \"V003\", \"V004\"],\"Total_marks\":[95, 80, 74, 81]}\n",
    "df2 = pd.DataFrame.from_dict(mark_dict).set_index(\"StudentID\")\n",
    "df2.to_sql('mark_table', con=engine)\n",
    "engine.execute(\"SELECT * FROM mark_table\").fetchall()"
   ]
  },
  {
   "cell_type": "markdown",
   "id": "ed039dd1",
   "metadata": {},
   "source": [
    "<h1>My Responses to the Viewpoint Questions:</h1>"
   ]
  },
  {
   "cell_type": "markdown",
   "id": "e1330209",
   "metadata": {},
   "source": [
    "<h1>1a).</h1>"
   ]
  },
  {
   "cell_type": "markdown",
   "id": "8980ec6c",
   "metadata": {},
   "source": [
    "Clearly, we want to select the **Name** from the name table and the **StudentID** from really either table (I chose mark_table). It will be easiest to select based on Total_mark if we join the tables on ID.\n",
    "\n",
    "What's tricky here is making the code reusable so that if Student V002's Total_mark updates, we still get the correct values with this query. I implemented this tricky part in the final line of my query to grab the average of one row's total_mark column, V002's total mark, and selecting only rows with total marks greater than this value."
   ]
  },
  {
   "cell_type": "code",
   "execution_count": 21,
   "id": "d5d454f3",
   "metadata": {},
   "outputs": [
    {
     "data": {
      "text/html": [
       "<div>\n",
       "<style scoped>\n",
       "    .dataframe tbody tr th:only-of-type {\n",
       "        vertical-align: middle;\n",
       "    }\n",
       "\n",
       "    .dataframe tbody tr th {\n",
       "        vertical-align: top;\n",
       "    }\n",
       "\n",
       "    .dataframe thead th {\n",
       "        text-align: right;\n",
       "    }\n",
       "</style>\n",
       "<table border=\"1\" class=\"dataframe\">\n",
       "  <thead>\n",
       "    <tr style=\"text-align: right;\">\n",
       "      <th></th>\n",
       "      <th>Name</th>\n",
       "      <th>StudentID</th>\n",
       "    </tr>\n",
       "  </thead>\n",
       "  <tbody>\n",
       "    <tr>\n",
       "      <th>0</th>\n",
       "      <td>Abe</td>\n",
       "      <td>V001</td>\n",
       "    </tr>\n",
       "    <tr>\n",
       "      <th>1</th>\n",
       "      <td>Adelphos</td>\n",
       "      <td>V004</td>\n",
       "    </tr>\n",
       "  </tbody>\n",
       "</table>\n",
       "</div>"
      ],
      "text/plain": [
       "       Name StudentID\n",
       "0       Abe      V001\n",
       "1  Adelphos      V004"
      ]
     },
     "execution_count": 21,
     "metadata": {},
     "output_type": "execute_result"
    }
   ],
   "source": [
    "query = '''\n",
    "SELECT \n",
    "name_table.Name, mark_table.StudentID\n",
    "FROM name_table\n",
    "INNER JOIN mark_table\n",
    "ON name_table.StudentID = mark_table.StudentID\n",
    "WHERE Total_marks > (SELECT AVG(mark_table.Total_marks) FROM mark_table WHERE mark_table.StudentID ='V002');\n",
    "'''\n",
    "\n",
    "pd.read_sql(query, engine)"
   ]
  },
  {
   "cell_type": "markdown",
   "id": "d4a3f5ed",
   "metadata": {},
   "source": [
    "<h1>1b).</h1>"
   ]
  },
  {
   "cell_type": "markdown",
   "id": "40b80b94",
   "metadata": {},
   "source": [
    "If we make a new dataframe with a column to indicate whether the name includes an 'e' (either True or False), than we can easily update the name to either uppercase or lowercase based on this new column. Then, all we need to do is return this dataframe without the column we created. Now we have an updated name column!"
   ]
  },
  {
   "cell_type": "code",
   "execution_count": 7,
   "id": "a7d75105",
   "metadata": {},
   "outputs": [
    {
     "data": {
      "text/html": [
       "<div>\n",
       "<style scoped>\n",
       "    .dataframe tbody tr th:only-of-type {\n",
       "        vertical-align: middle;\n",
       "    }\n",
       "\n",
       "    .dataframe tbody tr th {\n",
       "        vertical-align: top;\n",
       "    }\n",
       "\n",
       "    .dataframe thead th {\n",
       "        text-align: right;\n",
       "    }\n",
       "</style>\n",
       "<table border=\"1\" class=\"dataframe\">\n",
       "  <thead>\n",
       "    <tr style=\"text-align: right;\">\n",
       "      <th></th>\n",
       "      <th>Name</th>\n",
       "    </tr>\n",
       "    <tr>\n",
       "      <th>StudentID</th>\n",
       "      <th></th>\n",
       "    </tr>\n",
       "  </thead>\n",
       "  <tbody>\n",
       "    <tr>\n",
       "      <th>V001</th>\n",
       "      <td>ABE</td>\n",
       "    </tr>\n",
       "    <tr>\n",
       "      <th>V002</th>\n",
       "      <td>abhay</td>\n",
       "    </tr>\n",
       "    <tr>\n",
       "      <th>V003</th>\n",
       "      <td>ACELIN</td>\n",
       "    </tr>\n",
       "    <tr>\n",
       "      <th>V004</th>\n",
       "      <td>ADELPHOS</td>\n",
       "    </tr>\n",
       "  </tbody>\n",
       "</table>\n",
       "</div>"
      ],
      "text/plain": [
       "               Name\n",
       "StudentID          \n",
       "V001            ABE\n",
       "V002          abhay\n",
       "V003         ACELIN\n",
       "V004       ADELPHOS"
      ]
     },
     "execution_count": 7,
     "metadata": {},
     "output_type": "execute_result"
    }
   ],
   "source": [
    "def containsE(df):\n",
    "    new = df.copy()  # make copy of dataframe\n",
    "    new[\"Name\"] = new[\"Name\"].str.lower()  # assume that there are no e's in name\n",
    "    new[\"containsE\"] = df[\"Name\"].str.find(\"e\") != -1  # create temp column where value is 1 when 'e' is present; else 0\n",
    "    new.loc[new[\"containsE\"]==True, \"Name\"] = new[\"Name\"].str.upper()  # conditionally update name column to uppercase\n",
    "    return new[[\"Name\"]]  # return new df where id name is the only column (and index of id)\n",
    "\n",
    "containsE(df)"
   ]
  },
  {
   "cell_type": "markdown",
   "id": "fd36232c",
   "metadata": {},
   "source": [
    "<h1>1c).</h1>"
   ]
  },
  {
   "cell_type": "markdown",
   "id": "819f373e",
   "metadata": {},
   "source": [
    "Now we want to take the table we created in part b and return the average of the uppercase letters and the average of the lowercase letters. We can do this by first combining the two dataframes, then in a similar fashion to part b, creating a new column to indicate whether it is an uppercase or lowercase name. From here it is very simple to average the total_marks of the uppercase names and lowercase names separately. \n",
    "\n",
    "I chose to return a string to clarify what the solved numbers were. However, you could just as easily return only the numbers by modifying the return statement to say **\"return upper, lower\"**"
   ]
  },
  {
   "cell_type": "code",
   "execution_count": 22,
   "id": "ff87146b",
   "metadata": {},
   "outputs": [
    {
     "name": "stdout",
     "output_type": "stream",
     "text": [
      "The average score of uppercase names is 83.3, while the average score of lowercase names is 80.0\n"
     ]
    }
   ],
   "source": [
    "def summarize(df1, df2):\n",
    "    new = pd.concat([df1, df2], axis=1)  # add the tables together\n",
    "    new[\"upper\"] = new[\"Name\"].str.isupper()  # cretae a new boolean column to describe if the name is uppercase or not\n",
    "    upper = round(new[new[\"upper\"]==True][\"Total_marks\"].mean(), 1)  # average the uppercase names\n",
    "    lower = round(new[new[\"upper\"]==False][\"Total_marks\"].mean(), 1) # average the lowercase names\n",
    "    return f'The average score of uppercase names is {upper}, while the average score of lowercase names is {lower}'\n",
    "    \n",
    "\n",
    "print(summarize(containsE(df), df2))"
   ]
  },
  {
   "cell_type": "markdown",
   "id": "6c9145c5",
   "metadata": {},
   "source": [
    "<h1>2).</h1>"
   ]
  },
  {
   "cell_type": "code",
   "execution_count": 23,
   "id": "5bedfbee",
   "metadata": {},
   "outputs": [
    {
     "data": {
      "text/html": [
       "<div>\n",
       "<style scoped>\n",
       "    .dataframe tbody tr th:only-of-type {\n",
       "        vertical-align: middle;\n",
       "    }\n",
       "\n",
       "    .dataframe tbody tr th {\n",
       "        vertical-align: top;\n",
       "    }\n",
       "\n",
       "    .dataframe thead th {\n",
       "        text-align: right;\n",
       "    }\n",
       "</style>\n",
       "<table border=\"1\" class=\"dataframe\">\n",
       "  <thead>\n",
       "    <tr style=\"text-align: right;\">\n",
       "      <th></th>\n",
       "      <th>NAME</th>\n",
       "      <th>STATUS</th>\n",
       "      <th>SALARY</th>\n",
       "      <th>PAY BASIS</th>\n",
       "      <th>POSITION TITLE</th>\n",
       "    </tr>\n",
       "  </thead>\n",
       "  <tbody>\n",
       "    <tr>\n",
       "      <th>0</th>\n",
       "      <td>Alexander, Monica K.</td>\n",
       "      <td>Employee</td>\n",
       "      <td>$56,000.00</td>\n",
       "      <td>Per Annum</td>\n",
       "      <td>EXECUTIVE ASSISTANT</td>\n",
       "    </tr>\n",
       "    <tr>\n",
       "      <th>1</th>\n",
       "      <td>Ambrosini, Michael J.</td>\n",
       "      <td>Employee</td>\n",
       "      <td>$95,000.00</td>\n",
       "      <td>Per Annum</td>\n",
       "      <td>SPECIAL ASSISTANT TO THE PRESIDENT AND DIRECTO...</td>\n",
       "    </tr>\n",
       "    <tr>\n",
       "      <th>2</th>\n",
       "      <td>Amin, Stacy C.</td>\n",
       "      <td>Employee</td>\n",
       "      <td>$140,000.00</td>\n",
       "      <td>Per Annum</td>\n",
       "      <td>SPECIAL ASSISTANT TO THE PRESIDENT AND ASSOCIA...</td>\n",
       "    </tr>\n",
       "    <tr>\n",
       "      <th>3</th>\n",
       "      <td>Andersen, Whitney N.</td>\n",
       "      <td>Employee</td>\n",
       "      <td>$94,000.00</td>\n",
       "      <td>Per Annum</td>\n",
       "      <td>DEPUTY DIRECTOR OF OPERATIONS FOR THE WHITE HO...</td>\n",
       "    </tr>\n",
       "    <tr>\n",
       "      <th>4</th>\n",
       "      <td>Anderson, Alexander J.</td>\n",
       "      <td>Employee</td>\n",
       "      <td>$77,000.00</td>\n",
       "      <td>Per Annum</td>\n",
       "      <td>DIRECTOR OF DIGITAL ENGAGEMENT</td>\n",
       "    </tr>\n",
       "    <tr>\n",
       "      <th>...</th>\n",
       "      <td>...</td>\n",
       "      <td>...</td>\n",
       "      <td>...</td>\n",
       "      <td>...</td>\n",
       "      <td>...</td>\n",
       "    </tr>\n",
       "    <tr>\n",
       "      <th>372</th>\n",
       "      <td>Winfree, Paul L.</td>\n",
       "      <td>Employee</td>\n",
       "      <td>$155,000.00</td>\n",
       "      <td>Per Annum</td>\n",
       "      <td>DEPUTY ASSISTANT TO THE PRESIDENT AND DEPUTY D...</td>\n",
       "    </tr>\n",
       "    <tr>\n",
       "      <th>373</th>\n",
       "      <td>Worthington, Ross P.</td>\n",
       "      <td>Employee</td>\n",
       "      <td>$130,000.00</td>\n",
       "      <td>Per Annum</td>\n",
       "      <td>SPECIAL ASSISTANT TO THE PRESIDENT AND ADVISOR...</td>\n",
       "    </tr>\n",
       "    <tr>\n",
       "      <th>374</th>\n",
       "      <td>Young, Jr., Reginald D.</td>\n",
       "      <td>Employee</td>\n",
       "      <td>$72,648.00</td>\n",
       "      <td>Per Annum</td>\n",
       "      <td>SENIOR RECORDS MANAGEMENT ANALYST</td>\n",
       "    </tr>\n",
       "    <tr>\n",
       "      <th>375</th>\n",
       "      <td>Zadrozny, John A.</td>\n",
       "      <td>Employee</td>\n",
       "      <td>$95,000.00</td>\n",
       "      <td>Per Annum</td>\n",
       "      <td>SPECIAL ASSISTANT TO THE PRESIDENT FOR JUSTICE...</td>\n",
       "    </tr>\n",
       "    <tr>\n",
       "      <th>376</th>\n",
       "      <td>Zager, Samantha L.</td>\n",
       "      <td>Employee</td>\n",
       "      <td>$47,000.00</td>\n",
       "      <td>Per Annum</td>\n",
       "      <td>STAFF ASSISTANT</td>\n",
       "    </tr>\n",
       "  </tbody>\n",
       "</table>\n",
       "<p>377 rows × 5 columns</p>\n",
       "</div>"
      ],
      "text/plain": [
       "                        NAME    STATUS       SALARY  PAY BASIS  \\\n",
       "0       Alexander, Monica K.  Employee   $56,000.00  Per Annum   \n",
       "1      Ambrosini, Michael J.  Employee   $95,000.00  Per Annum   \n",
       "2             Amin, Stacy C.  Employee  $140,000.00  Per Annum   \n",
       "3       Andersen, Whitney N.  Employee   $94,000.00  Per Annum   \n",
       "4     Anderson, Alexander J.  Employee   $77,000.00  Per Annum   \n",
       "..                       ...       ...          ...        ...   \n",
       "372         Winfree, Paul L.  Employee  $155,000.00  Per Annum   \n",
       "373     Worthington, Ross P.  Employee  $130,000.00  Per Annum   \n",
       "374  Young, Jr., Reginald D.  Employee   $72,648.00  Per Annum   \n",
       "375        Zadrozny, John A.  Employee   $95,000.00  Per Annum   \n",
       "376       Zager, Samantha L.  Employee   $47,000.00  Per Annum   \n",
       "\n",
       "                                        POSITION TITLE  \n",
       "0                                  EXECUTIVE ASSISTANT  \n",
       "1    SPECIAL ASSISTANT TO THE PRESIDENT AND DIRECTO...  \n",
       "2    SPECIAL ASSISTANT TO THE PRESIDENT AND ASSOCIA...  \n",
       "3    DEPUTY DIRECTOR OF OPERATIONS FOR THE WHITE HO...  \n",
       "4                       DIRECTOR OF DIGITAL ENGAGEMENT  \n",
       "..                                                 ...  \n",
       "372  DEPUTY ASSISTANT TO THE PRESIDENT AND DEPUTY D...  \n",
       "373  SPECIAL ASSISTANT TO THE PRESIDENT AND ADVISOR...  \n",
       "374                  SENIOR RECORDS MANAGEMENT ANALYST  \n",
       "375  SPECIAL ASSISTANT TO THE PRESIDENT FOR JUSTICE...  \n",
       "376                                    STAFF ASSISTANT  \n",
       "\n",
       "[377 rows x 5 columns]"
      ]
     },
     "execution_count": 23,
     "metadata": {},
     "output_type": "execute_result"
    }
   ],
   "source": [
    "wh = pd.read_csv('2017.csv')  # read our csv file into a dataframe\n",
    "wh"
   ]
  },
  {
   "cell_type": "markdown",
   "id": "afdf3836",
   "metadata": {},
   "source": [
    "First, having our 'SALARY' column as a string with dollar signs is not very useful. Let's modify the 'SALARY' column to contain integer values:"
   ]
  },
  {
   "cell_type": "code",
   "execution_count": 13,
   "id": "13420c84",
   "metadata": {},
   "outputs": [
    {
     "data": {
      "text/html": [
       "<div>\n",
       "<style scoped>\n",
       "    .dataframe tbody tr th:only-of-type {\n",
       "        vertical-align: middle;\n",
       "    }\n",
       "\n",
       "    .dataframe tbody tr th {\n",
       "        vertical-align: top;\n",
       "    }\n",
       "\n",
       "    .dataframe thead th {\n",
       "        text-align: right;\n",
       "    }\n",
       "</style>\n",
       "<table border=\"1\" class=\"dataframe\">\n",
       "  <thead>\n",
       "    <tr style=\"text-align: right;\">\n",
       "      <th></th>\n",
       "      <th>NAME</th>\n",
       "      <th>STATUS</th>\n",
       "      <th>SALARY</th>\n",
       "      <th>PAY BASIS</th>\n",
       "      <th>POSITION TITLE</th>\n",
       "    </tr>\n",
       "  </thead>\n",
       "  <tbody>\n",
       "    <tr>\n",
       "      <th>0</th>\n",
       "      <td>Alexander, Monica K.</td>\n",
       "      <td>Employee</td>\n",
       "      <td>5600000</td>\n",
       "      <td>Per Annum</td>\n",
       "      <td>EXECUTIVE ASSISTANT</td>\n",
       "    </tr>\n",
       "    <tr>\n",
       "      <th>1</th>\n",
       "      <td>Ambrosini, Michael J.</td>\n",
       "      <td>Employee</td>\n",
       "      <td>9500000</td>\n",
       "      <td>Per Annum</td>\n",
       "      <td>SPECIAL ASSISTANT TO THE PRESIDENT AND DIRECTO...</td>\n",
       "    </tr>\n",
       "    <tr>\n",
       "      <th>2</th>\n",
       "      <td>Amin, Stacy C.</td>\n",
       "      <td>Employee</td>\n",
       "      <td>14000000</td>\n",
       "      <td>Per Annum</td>\n",
       "      <td>SPECIAL ASSISTANT TO THE PRESIDENT AND ASSOCIA...</td>\n",
       "    </tr>\n",
       "    <tr>\n",
       "      <th>3</th>\n",
       "      <td>Andersen, Whitney N.</td>\n",
       "      <td>Employee</td>\n",
       "      <td>9400000</td>\n",
       "      <td>Per Annum</td>\n",
       "      <td>DEPUTY DIRECTOR OF OPERATIONS FOR THE WHITE HO...</td>\n",
       "    </tr>\n",
       "    <tr>\n",
       "      <th>4</th>\n",
       "      <td>Anderson, Alexander J.</td>\n",
       "      <td>Employee</td>\n",
       "      <td>7700000</td>\n",
       "      <td>Per Annum</td>\n",
       "      <td>DIRECTOR OF DIGITAL ENGAGEMENT</td>\n",
       "    </tr>\n",
       "    <tr>\n",
       "      <th>...</th>\n",
       "      <td>...</td>\n",
       "      <td>...</td>\n",
       "      <td>...</td>\n",
       "      <td>...</td>\n",
       "      <td>...</td>\n",
       "    </tr>\n",
       "    <tr>\n",
       "      <th>372</th>\n",
       "      <td>Winfree, Paul L.</td>\n",
       "      <td>Employee</td>\n",
       "      <td>15500000</td>\n",
       "      <td>Per Annum</td>\n",
       "      <td>DEPUTY ASSISTANT TO THE PRESIDENT AND DEPUTY D...</td>\n",
       "    </tr>\n",
       "    <tr>\n",
       "      <th>373</th>\n",
       "      <td>Worthington, Ross P.</td>\n",
       "      <td>Employee</td>\n",
       "      <td>13000000</td>\n",
       "      <td>Per Annum</td>\n",
       "      <td>SPECIAL ASSISTANT TO THE PRESIDENT AND ADVISOR...</td>\n",
       "    </tr>\n",
       "    <tr>\n",
       "      <th>374</th>\n",
       "      <td>Young, Jr., Reginald D.</td>\n",
       "      <td>Employee</td>\n",
       "      <td>7264800</td>\n",
       "      <td>Per Annum</td>\n",
       "      <td>SENIOR RECORDS MANAGEMENT ANALYST</td>\n",
       "    </tr>\n",
       "    <tr>\n",
       "      <th>375</th>\n",
       "      <td>Zadrozny, John A.</td>\n",
       "      <td>Employee</td>\n",
       "      <td>9500000</td>\n",
       "      <td>Per Annum</td>\n",
       "      <td>SPECIAL ASSISTANT TO THE PRESIDENT FOR JUSTICE...</td>\n",
       "    </tr>\n",
       "    <tr>\n",
       "      <th>376</th>\n",
       "      <td>Zager, Samantha L.</td>\n",
       "      <td>Employee</td>\n",
       "      <td>4700000</td>\n",
       "      <td>Per Annum</td>\n",
       "      <td>STAFF ASSISTANT</td>\n",
       "    </tr>\n",
       "  </tbody>\n",
       "</table>\n",
       "<p>377 rows × 5 columns</p>\n",
       "</div>"
      ],
      "text/plain": [
       "                        NAME    STATUS    SALARY  PAY BASIS  \\\n",
       "0       Alexander, Monica K.  Employee   5600000  Per Annum   \n",
       "1      Ambrosini, Michael J.  Employee   9500000  Per Annum   \n",
       "2             Amin, Stacy C.  Employee  14000000  Per Annum   \n",
       "3       Andersen, Whitney N.  Employee   9400000  Per Annum   \n",
       "4     Anderson, Alexander J.  Employee   7700000  Per Annum   \n",
       "..                       ...       ...       ...        ...   \n",
       "372         Winfree, Paul L.  Employee  15500000  Per Annum   \n",
       "373     Worthington, Ross P.  Employee  13000000  Per Annum   \n",
       "374  Young, Jr., Reginald D.  Employee   7264800  Per Annum   \n",
       "375        Zadrozny, John A.  Employee   9500000  Per Annum   \n",
       "376       Zager, Samantha L.  Employee   4700000  Per Annum   \n",
       "\n",
       "                                        POSITION TITLE  \n",
       "0                                  EXECUTIVE ASSISTANT  \n",
       "1    SPECIAL ASSISTANT TO THE PRESIDENT AND DIRECTO...  \n",
       "2    SPECIAL ASSISTANT TO THE PRESIDENT AND ASSOCIA...  \n",
       "3    DEPUTY DIRECTOR OF OPERATIONS FOR THE WHITE HO...  \n",
       "4                       DIRECTOR OF DIGITAL ENGAGEMENT  \n",
       "..                                                 ...  \n",
       "372  DEPUTY ASSISTANT TO THE PRESIDENT AND DEPUTY D...  \n",
       "373  SPECIAL ASSISTANT TO THE PRESIDENT AND ADVISOR...  \n",
       "374                  SENIOR RECORDS MANAGEMENT ANALYST  \n",
       "375  SPECIAL ASSISTANT TO THE PRESIDENT FOR JUSTICE...  \n",
       "376                                    STAFF ASSISTANT  \n",
       "\n",
       "[377 rows x 5 columns]"
      ]
     },
     "execution_count": 13,
     "metadata": {},
     "output_type": "execute_result"
    }
   ],
   "source": [
    "import re  # using regex makes this simple!\n",
    "\n",
    "wh[\"SALARY\"] = wh[\"SALARY\"].apply(lambda x: int(re.sub('[^0-9]','', x))) # get rid of commas and $ and cast as int\n",
    "wh"
   ]
  },
  {
   "cell_type": "markdown",
   "id": "26e1ca39",
   "metadata": {},
   "source": [
    "Next, it might be nice to have a first name and a last name column:"
   ]
  },
  {
   "cell_type": "code",
   "execution_count": 14,
   "id": "16151264",
   "metadata": {},
   "outputs": [
    {
     "data": {
      "text/html": [
       "<div>\n",
       "<style scoped>\n",
       "    .dataframe tbody tr th:only-of-type {\n",
       "        vertical-align: middle;\n",
       "    }\n",
       "\n",
       "    .dataframe tbody tr th {\n",
       "        vertical-align: top;\n",
       "    }\n",
       "\n",
       "    .dataframe thead th {\n",
       "        text-align: right;\n",
       "    }\n",
       "</style>\n",
       "<table border=\"1\" class=\"dataframe\">\n",
       "  <thead>\n",
       "    <tr style=\"text-align: right;\">\n",
       "      <th></th>\n",
       "      <th>NAME</th>\n",
       "      <th>STATUS</th>\n",
       "      <th>SALARY</th>\n",
       "      <th>PAY BASIS</th>\n",
       "      <th>POSITION TITLE</th>\n",
       "      <th>LAST NAME</th>\n",
       "      <th>FIRST NAME</th>\n",
       "    </tr>\n",
       "  </thead>\n",
       "  <tbody>\n",
       "    <tr>\n",
       "      <th>0</th>\n",
       "      <td>Alexander, Monica K.</td>\n",
       "      <td>Employee</td>\n",
       "      <td>5600000</td>\n",
       "      <td>Per Annum</td>\n",
       "      <td>EXECUTIVE ASSISTANT</td>\n",
       "      <td>Alexander</td>\n",
       "      <td>Monica</td>\n",
       "    </tr>\n",
       "    <tr>\n",
       "      <th>1</th>\n",
       "      <td>Ambrosini, Michael J.</td>\n",
       "      <td>Employee</td>\n",
       "      <td>9500000</td>\n",
       "      <td>Per Annum</td>\n",
       "      <td>SPECIAL ASSISTANT TO THE PRESIDENT AND DIRECTO...</td>\n",
       "      <td>Ambrosini</td>\n",
       "      <td>Michael</td>\n",
       "    </tr>\n",
       "    <tr>\n",
       "      <th>2</th>\n",
       "      <td>Amin, Stacy C.</td>\n",
       "      <td>Employee</td>\n",
       "      <td>14000000</td>\n",
       "      <td>Per Annum</td>\n",
       "      <td>SPECIAL ASSISTANT TO THE PRESIDENT AND ASSOCIA...</td>\n",
       "      <td>Amin</td>\n",
       "      <td>Stacy</td>\n",
       "    </tr>\n",
       "    <tr>\n",
       "      <th>3</th>\n",
       "      <td>Andersen, Whitney N.</td>\n",
       "      <td>Employee</td>\n",
       "      <td>9400000</td>\n",
       "      <td>Per Annum</td>\n",
       "      <td>DEPUTY DIRECTOR OF OPERATIONS FOR THE WHITE HO...</td>\n",
       "      <td>Andersen</td>\n",
       "      <td>Whitney</td>\n",
       "    </tr>\n",
       "    <tr>\n",
       "      <th>4</th>\n",
       "      <td>Anderson, Alexander J.</td>\n",
       "      <td>Employee</td>\n",
       "      <td>7700000</td>\n",
       "      <td>Per Annum</td>\n",
       "      <td>DIRECTOR OF DIGITAL ENGAGEMENT</td>\n",
       "      <td>Anderson</td>\n",
       "      <td>Alexander</td>\n",
       "    </tr>\n",
       "    <tr>\n",
       "      <th>...</th>\n",
       "      <td>...</td>\n",
       "      <td>...</td>\n",
       "      <td>...</td>\n",
       "      <td>...</td>\n",
       "      <td>...</td>\n",
       "      <td>...</td>\n",
       "      <td>...</td>\n",
       "    </tr>\n",
       "    <tr>\n",
       "      <th>372</th>\n",
       "      <td>Winfree, Paul L.</td>\n",
       "      <td>Employee</td>\n",
       "      <td>15500000</td>\n",
       "      <td>Per Annum</td>\n",
       "      <td>DEPUTY ASSISTANT TO THE PRESIDENT AND DEPUTY D...</td>\n",
       "      <td>Winfree</td>\n",
       "      <td>Paul</td>\n",
       "    </tr>\n",
       "    <tr>\n",
       "      <th>373</th>\n",
       "      <td>Worthington, Ross P.</td>\n",
       "      <td>Employee</td>\n",
       "      <td>13000000</td>\n",
       "      <td>Per Annum</td>\n",
       "      <td>SPECIAL ASSISTANT TO THE PRESIDENT AND ADVISOR...</td>\n",
       "      <td>Worthington</td>\n",
       "      <td>Ross</td>\n",
       "    </tr>\n",
       "    <tr>\n",
       "      <th>374</th>\n",
       "      <td>Young, Jr., Reginald D.</td>\n",
       "      <td>Employee</td>\n",
       "      <td>7264800</td>\n",
       "      <td>Per Annum</td>\n",
       "      <td>SENIOR RECORDS MANAGEMENT ANALYST</td>\n",
       "      <td>Young</td>\n",
       "      <td>Jr.,</td>\n",
       "    </tr>\n",
       "    <tr>\n",
       "      <th>375</th>\n",
       "      <td>Zadrozny, John A.</td>\n",
       "      <td>Employee</td>\n",
       "      <td>9500000</td>\n",
       "      <td>Per Annum</td>\n",
       "      <td>SPECIAL ASSISTANT TO THE PRESIDENT FOR JUSTICE...</td>\n",
       "      <td>Zadrozny</td>\n",
       "      <td>John</td>\n",
       "    </tr>\n",
       "    <tr>\n",
       "      <th>376</th>\n",
       "      <td>Zager, Samantha L.</td>\n",
       "      <td>Employee</td>\n",
       "      <td>4700000</td>\n",
       "      <td>Per Annum</td>\n",
       "      <td>STAFF ASSISTANT</td>\n",
       "      <td>Zager</td>\n",
       "      <td>Samantha</td>\n",
       "    </tr>\n",
       "  </tbody>\n",
       "</table>\n",
       "<p>377 rows × 7 columns</p>\n",
       "</div>"
      ],
      "text/plain": [
       "                        NAME    STATUS    SALARY  PAY BASIS  \\\n",
       "0       Alexander, Monica K.  Employee   5600000  Per Annum   \n",
       "1      Ambrosini, Michael J.  Employee   9500000  Per Annum   \n",
       "2             Amin, Stacy C.  Employee  14000000  Per Annum   \n",
       "3       Andersen, Whitney N.  Employee   9400000  Per Annum   \n",
       "4     Anderson, Alexander J.  Employee   7700000  Per Annum   \n",
       "..                       ...       ...       ...        ...   \n",
       "372         Winfree, Paul L.  Employee  15500000  Per Annum   \n",
       "373     Worthington, Ross P.  Employee  13000000  Per Annum   \n",
       "374  Young, Jr., Reginald D.  Employee   7264800  Per Annum   \n",
       "375        Zadrozny, John A.  Employee   9500000  Per Annum   \n",
       "376       Zager, Samantha L.  Employee   4700000  Per Annum   \n",
       "\n",
       "                                        POSITION TITLE    LAST NAME FIRST NAME  \n",
       "0                                  EXECUTIVE ASSISTANT    Alexander     Monica  \n",
       "1    SPECIAL ASSISTANT TO THE PRESIDENT AND DIRECTO...    Ambrosini    Michael  \n",
       "2    SPECIAL ASSISTANT TO THE PRESIDENT AND ASSOCIA...         Amin      Stacy  \n",
       "3    DEPUTY DIRECTOR OF OPERATIONS FOR THE WHITE HO...     Andersen    Whitney  \n",
       "4                       DIRECTOR OF DIGITAL ENGAGEMENT     Anderson  Alexander  \n",
       "..                                                 ...          ...        ...  \n",
       "372  DEPUTY ASSISTANT TO THE PRESIDENT AND DEPUTY D...      Winfree       Paul  \n",
       "373  SPECIAL ASSISTANT TO THE PRESIDENT AND ADVISOR...  Worthington       Ross  \n",
       "374                  SENIOR RECORDS MANAGEMENT ANALYST        Young       Jr.,  \n",
       "375  SPECIAL ASSISTANT TO THE PRESIDENT FOR JUSTICE...     Zadrozny       John  \n",
       "376                                    STAFF ASSISTANT        Zager   Samantha  \n",
       "\n",
       "[377 rows x 7 columns]"
      ]
     },
     "execution_count": 14,
     "metadata": {},
     "output_type": "execute_result"
    }
   ],
   "source": [
    "last = r'[a-zA-Z]*'  # once again, lets use regex!\n",
    "wh[\"LAST NAME\"] = wh[\"NAME\"].apply(lambda x: re.findall(last, x)[0])\n",
    "wh[\"FIRST NAME\"] = wh[\"NAME\"].apply(lambda x: re.split(\"\\s\", x)[1])\n",
    "wh"
   ]
  },
  {
   "cell_type": "markdown",
   "id": "3b73af8c",
   "metadata": {},
   "source": [
    "<h3>Nice! Now let's look at the data file</h3>"
   ]
  },
  {
   "cell_type": "code",
   "execution_count": 25,
   "id": "d86c1a9d",
   "metadata": {
    "scrolled": false
   },
   "outputs": [
    {
     "data": {
      "text/html": [
       "<div>\n",
       "<style scoped>\n",
       "    .dataframe tbody tr th:only-of-type {\n",
       "        vertical-align: middle;\n",
       "    }\n",
       "\n",
       "    .dataframe tbody tr th {\n",
       "        vertical-align: top;\n",
       "    }\n",
       "\n",
       "    .dataframe thead th {\n",
       "        text-align: right;\n",
       "    }\n",
       "</style>\n",
       "<table border=\"1\" class=\"dataframe\">\n",
       "  <thead>\n",
       "    <tr style=\"text-align: right;\">\n",
       "      <th></th>\n",
       "      <th>Data</th>\n",
       "    </tr>\n",
       "    <tr>\n",
       "      <th>0</th>\n",
       "      <th></th>\n",
       "    </tr>\n",
       "  </thead>\n",
       "  <tbody>\n",
       "    <tr>\n",
       "      <th>0</th>\n",
       "      <td>23.827290</td>\n",
       "    </tr>\n",
       "    <tr>\n",
       "      <th>1</th>\n",
       "      <td>23.589108</td>\n",
       "    </tr>\n",
       "    <tr>\n",
       "      <th>2</th>\n",
       "      <td>24.529556</td>\n",
       "    </tr>\n",
       "    <tr>\n",
       "      <th>3</th>\n",
       "      <td>16.684580</td>\n",
       "    </tr>\n",
       "    <tr>\n",
       "      <th>4</th>\n",
       "      <td>22.075507</td>\n",
       "    </tr>\n",
       "    <tr>\n",
       "      <th>...</th>\n",
       "      <td>...</td>\n",
       "    </tr>\n",
       "    <tr>\n",
       "      <th>9995</th>\n",
       "      <td>18.593941</td>\n",
       "    </tr>\n",
       "    <tr>\n",
       "      <th>9996</th>\n",
       "      <td>18.466305</td>\n",
       "    </tr>\n",
       "    <tr>\n",
       "      <th>9997</th>\n",
       "      <td>28.286995</td>\n",
       "    </tr>\n",
       "    <tr>\n",
       "      <th>9998</th>\n",
       "      <td>23.523697</td>\n",
       "    </tr>\n",
       "    <tr>\n",
       "      <th>9999</th>\n",
       "      <td>16.724441</td>\n",
       "    </tr>\n",
       "  </tbody>\n",
       "</table>\n",
       "<p>10000 rows × 1 columns</p>\n",
       "</div>"
      ],
      "text/plain": [
       "           Data\n",
       "0              \n",
       "0     23.827290\n",
       "1     23.589108\n",
       "2     24.529556\n",
       "3     16.684580\n",
       "4     22.075507\n",
       "...         ...\n",
       "9995  18.593941\n",
       "9996  18.466305\n",
       "9997  28.286995\n",
       "9998  23.523697\n",
       "9999  16.724441\n",
       "\n",
       "[10000 rows x 1 columns]"
      ]
     },
     "execution_count": 25,
     "metadata": {},
     "output_type": "execute_result"
    }
   ],
   "source": [
    "data = pd.read_csv('data.csv', header=None, index_col=0).rename(columns={1:\"Data\"})  # read our csv file into a dataframe\n",
    "data"
   ]
  },
  {
   "cell_type": "markdown",
   "id": "cd66b124",
   "metadata": {},
   "source": [
    "In pandas, it is very easy to generate descriptive statistics for a dataframe's numerical columns."
   ]
  },
  {
   "cell_type": "code",
   "execution_count": 26,
   "id": "283ab2a5",
   "metadata": {},
   "outputs": [
    {
     "data": {
      "text/html": [
       "<div>\n",
       "<style scoped>\n",
       "    .dataframe tbody tr th:only-of-type {\n",
       "        vertical-align: middle;\n",
       "    }\n",
       "\n",
       "    .dataframe tbody tr th {\n",
       "        vertical-align: top;\n",
       "    }\n",
       "\n",
       "    .dataframe thead th {\n",
       "        text-align: right;\n",
       "    }\n",
       "</style>\n",
       "<table border=\"1\" class=\"dataframe\">\n",
       "  <thead>\n",
       "    <tr style=\"text-align: right;\">\n",
       "      <th></th>\n",
       "      <th>Data</th>\n",
       "    </tr>\n",
       "  </thead>\n",
       "  <tbody>\n",
       "    <tr>\n",
       "      <th>count</th>\n",
       "      <td>10000.000000</td>\n",
       "    </tr>\n",
       "    <tr>\n",
       "      <th>mean</th>\n",
       "      <td>23.036075</td>\n",
       "    </tr>\n",
       "    <tr>\n",
       "      <th>std</th>\n",
       "      <td>2.995296</td>\n",
       "    </tr>\n",
       "    <tr>\n",
       "      <th>min</th>\n",
       "      <td>11.248686</td>\n",
       "    </tr>\n",
       "    <tr>\n",
       "      <th>25%</th>\n",
       "      <td>21.007801</td>\n",
       "    </tr>\n",
       "    <tr>\n",
       "      <th>50%</th>\n",
       "      <td>23.024042</td>\n",
       "    </tr>\n",
       "    <tr>\n",
       "      <th>75%</th>\n",
       "      <td>25.069083</td>\n",
       "    </tr>\n",
       "    <tr>\n",
       "      <th>max</th>\n",
       "      <td>33.286533</td>\n",
       "    </tr>\n",
       "  </tbody>\n",
       "</table>\n",
       "</div>"
      ],
      "text/plain": [
       "               Data\n",
       "count  10000.000000\n",
       "mean      23.036075\n",
       "std        2.995296\n",
       "min       11.248686\n",
       "25%       21.007801\n",
       "50%       23.024042\n",
       "75%       25.069083\n",
       "max       33.286533"
      ]
     },
     "execution_count": 26,
     "metadata": {},
     "output_type": "execute_result"
    }
   ],
   "source": [
    "data.describe()"
   ]
  },
  {
   "cell_type": "markdown",
   "id": "b4e07ea1",
   "metadata": {},
   "source": [
    "It is now clear that the mean of the data is ~23, there are 10,000 rows, the minimum value is 11.24, the maximum value is 33.29 etc."
   ]
  },
  {
   "cell_type": "markdown",
   "id": "c7d5792f",
   "metadata": {},
   "source": [
    "Now let's plot the data values to get a better idea of the distribution of data."
   ]
  },
  {
   "cell_type": "code",
   "execution_count": 30,
   "id": "4b7d0aa4",
   "metadata": {},
   "outputs": [
    {
     "data": {
      "image/png": "[encoded data removed]",
      "text/plain": [
       "<Figure size 864x576 with 1 Axes>"
      ]
     },
     "metadata": {},
     "output_type": "display_data"
    }
   ],
   "source": [
    "import seaborn as sns\n",
    "import warnings\n",
    "warnings.filterwarnings(\"ignore\", category=FutureWarning) # I want to use a specific plot and I don't want the warning :)\n",
    "\n",
    "\n",
    "plt.figure(figsize=(12, 8))\n",
    "sns.distplot(data[\"Data\"])\n",
    "plt.title(\"Distribution of Data Values\", fontsize=30);"
   ]
  },
  {
   "cell_type": "markdown",
   "id": "4f174557",
   "metadata": {},
   "source": [
    "We can now also see that the data is approximately **normally distributed**!"
   ]
  },
  {
   "cell_type": "markdown",
   "id": "9acca400",
   "metadata": {},
   "source": [
    "<h1>3).</h1>"
   ]
  },
  {
   "cell_type": "markdown",
   "id": "67023969",
   "metadata": {},
   "source": [
    "Assuming that our column is numerical, it might make sense to replace NULL values with the mean of the data set. This way, we don't lose data but we also do not greatly change the characteristics of the column.\n",
    "\n",
    "Assuming the column is NOT numerical, it might make the most sense to simply replace NULL values with the value that is most frequent in this column. This way, we do not lose data, either."
   ]
  },
  {
   "cell_type": "markdown",
   "id": "4c2273f5",
   "metadata": {},
   "source": [
    "<h1>4).</h1>"
   ]
  },
  {
   "cell_type": "markdown",
   "id": "e10499da",
   "metadata": {},
   "source": [
    "I am almost never am awake at 2am, so I would probably do this in the morning closer to 7am or 8am. If the task MUST be done before then, I would do it Wednesday night. If the task HAD to be done at 2:00am, I would want to find a way to automate it then check up on the data in the morning after to verify :)\n",
    "\n",
    "Maybe I would want to automate it regardless... 365 GB would take a while to sift through!\n",
    "\n",
    "As far as tools go, I assume you would want to use tools that manage such large data sets well. That being said, I have not worked with such large data sets before and I do not want to pretend to be knowledgeable about the practices. I CAN say that the time complexity of the solution you choose needs to be as fast as possible. This way, time is not wasted through poor implementations."
   ]
  },
  {
   "cell_type": "markdown",
   "id": "2290aa1a",
   "metadata": {},
   "source": [
    "<h1>5).</h1>"
   ]
  },
  {
   "cell_type": "markdown",
   "id": "4ca6f2c6",
   "metadata": {},
   "source": [
    "Right now, my favorite computer scientist(s) is Satoshi Nakamoto. Satoshi Nakamoto is the anonymous inventer of bitcoin and the first blockchain database. In my opinion, these inventions may prove to be some of the more influential inventions in recent memory! "
   ]
  },
  {
   "cell_type": "code",
   "execution_count": null,
   "id": "f847ad2a",
   "metadata": {},
   "outputs": [],
   "source": []
  }
 ],
 "metadata": {
  "kernelspec": {
   "display_name": "Python 3 (ipykernel)",
   "language": "python",
   "name": "python3"
  },
  "language_info": {
   "codemirror_mode": {
    "name": "ipython",
    "version": 3
   },
   "file_extension": ".py",
   "mimetype": "text/x-python",
   "name": "python",
   "nbconvert_exporter": "python",
   "pygments_lexer": "ipython3",
   "version": "3.9.5"
  }
 },
 "nbformat": 4,
 "nbformat_minor": 5
}
